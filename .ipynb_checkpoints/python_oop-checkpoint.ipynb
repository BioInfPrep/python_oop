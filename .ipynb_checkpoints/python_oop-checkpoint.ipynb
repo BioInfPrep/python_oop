{
 "cells": [
  {
   "cell_type": "code",
   "execution_count": null,
   "metadata": {},
   "outputs": [],
   "source": []
  },
  {
   "cell_type": "code",
   "execution_count": 2,
   "metadata": {},
   "outputs": [
    {
     "name": "stdout",
     "output_type": "stream",
     "text": [
      "False\n",
      "True\n"
     ]
    }
   ],
   "source": [
    "# Class \n",
    "class Robot:\n",
    "    pass # null operation - placeholder\n",
    "\n",
    "\n",
    "# if module is imported by another program main is not used. \n",
    "# https://stackoverflow.com/questions/419163/what-does-if-name-main-do\n",
    "if __name__ == \"__main__\": \n",
    "    x = Robot() \n",
    "    y = Robot()\n",
    "    y_alias = y # reference to y \n",
    "    \n",
    "    print(x==y)\n",
    "    print(y==y_alias) "
   ]
  },
  {
   "cell_type": "code",
   "execution_count": 13,
   "metadata": {},
   "outputs": [
    {
     "name": "stdout",
     "output_type": "stream",
     "text": [
      "Peter 1980\n"
     ]
    },
    {
     "data": {
      "text/plain": [
       "{'name': 'Peter', 'year': '1980', 'height': '1.78'}"
      ]
     },
     "execution_count": 13,
     "metadata": {},
     "output_type": "execute_result"
    }
   ],
   "source": [
    "# Attributes\n",
    "# dynamically create new attributes, which is not the way to use instance attributes \n",
    "\n",
    "class Robot:\n",
    "    pass \n",
    "\n",
    "if __name__ == \"__main__\": \n",
    "    x = Robot() \n",
    "    x.name = \"Peter\"\n",
    "    x.year = \"1980\"\n",
    "    \n",
    "    print(x.name, x.year)\n",
    "\n",
    "# internally instances use dictionaries \n",
    "x.__dict__\n",
    "x.height = \"1.78\"\n",
    "x.__dict__"
   ]
  },
  {
   "cell_type": "code",
   "execution_count": 15,
   "metadata": {},
   "outputs": [
    {
     "name": "stdout",
     "output_type": "stream",
     "text": [
      "Hi, I am Hans!\n"
     ]
    }
   ],
   "source": [
    "# methods \n",
    "\n",
    "def hi(obj):\n",
    "    print(\"Hi, I am \" + obj.name + \"!\")\n",
    "\n",
    "class Robot:\n",
    "    pass\n",
    "\n",
    "if __name__ == \"__main__\": \n",
    "    x = Robot()\n",
    "    x.name = \"Hans\"  \n",
    "    hi(x)\n",
    "\n"
   ]
  },
  {
   "cell_type": "code",
   "execution_count": 17,
   "metadata": {},
   "outputs": [
    {
     "ename": "AttributeError",
     "evalue": "'Robot' object has no attribute 'name'",
     "output_type": "error",
     "traceback": [
      "\u001b[0;31m---------------------------------------------------------------------------\u001b[0m",
      "\u001b[0;31mAttributeError\u001b[0m                            Traceback (most recent call last)",
      "\u001b[0;32m<ipython-input-17-ac4d8a9fabf5>\u001b[0m in \u001b[0;36m<module>\u001b[0;34m\u001b[0m\n\u001b[1;32m      9\u001b[0m \u001b[0;32mif\u001b[0m \u001b[0m__name__\u001b[0m \u001b[0;34m==\u001b[0m \u001b[0;34m\"__main__\"\u001b[0m\u001b[0;34m:\u001b[0m\u001b[0;34m\u001b[0m\u001b[0;34m\u001b[0m\u001b[0m\n\u001b[1;32m     10\u001b[0m     \u001b[0mx\u001b[0m \u001b[0;34m=\u001b[0m \u001b[0mRobot\u001b[0m\u001b[0;34m(\u001b[0m\u001b[0;34m)\u001b[0m\u001b[0;34m\u001b[0m\u001b[0;34m\u001b[0m\u001b[0m\n\u001b[0;32m---> 11\u001b[0;31m     \u001b[0mx\u001b[0m\u001b[0;34m.\u001b[0m\u001b[0msay_hello\u001b[0m\u001b[0;34m(\u001b[0m\u001b[0;34m)\u001b[0m\u001b[0;34m\u001b[0m\u001b[0;34m\u001b[0m\u001b[0m\n\u001b[0m\u001b[1;32m     12\u001b[0m \u001b[0;34m\u001b[0m\u001b[0m\n",
      "\u001b[0;32m<ipython-input-17-ac4d8a9fabf5>\u001b[0m in \u001b[0;36mhello\u001b[0;34m(obj)\u001b[0m\n\u001b[1;32m      2\u001b[0m \u001b[0;34m\u001b[0m\u001b[0m\n\u001b[1;32m      3\u001b[0m \u001b[0;32mdef\u001b[0m \u001b[0mhello\u001b[0m\u001b[0;34m(\u001b[0m\u001b[0mobj\u001b[0m\u001b[0;34m)\u001b[0m\u001b[0;34m:\u001b[0m\u001b[0;34m\u001b[0m\u001b[0;34m\u001b[0m\u001b[0m\n\u001b[0;32m----> 4\u001b[0;31m     \u001b[0mprint\u001b[0m\u001b[0;34m(\u001b[0m\u001b[0;34m\"Hi, I am \"\u001b[0m \u001b[0;34m+\u001b[0m \u001b[0mobj\u001b[0m\u001b[0;34m.\u001b[0m\u001b[0mname\u001b[0m \u001b[0;34m+\u001b[0m \u001b[0;34m\"!\"\u001b[0m\u001b[0;34m)\u001b[0m\u001b[0;34m\u001b[0m\u001b[0;34m\u001b[0m\u001b[0m\n\u001b[0m\u001b[1;32m      5\u001b[0m \u001b[0;34m\u001b[0m\u001b[0m\n\u001b[1;32m      6\u001b[0m \u001b[0;32mclass\u001b[0m \u001b[0mRobot\u001b[0m\u001b[0;34m:\u001b[0m\u001b[0;34m\u001b[0m\u001b[0;34m\u001b[0m\u001b[0m\n",
      "\u001b[0;31mAttributeError\u001b[0m: 'Robot' object has no attribute 'name'"
     ]
    }
   ],
   "source": [
    "# methods \n",
    "\n",
    "def hello(obj):\n",
    "    print(\"Hi, I am \" + obj.name + \"!\")\n",
    "\n",
    "class Robot:\n",
    "    say_hello = hello\n",
    "\n",
    "if __name__ == \"__main__\": \n",
    "    x = Robot() \n",
    "    x.name()\n",
    "    x.say_hello()\n",
    "\n",
    "# usually the methods are not defined outside of the class, but inside as a member function.\n"
   ]
  },
  {
   "cell_type": "code",
   "execution_count": 20,
   "metadata": {},
   "outputs": [
    {
     "name": "stdout",
     "output_type": "stream",
     "text": [
      "Hi, I do not have name yet! Please give me one!\n",
      "Hi, I am Olaf!\n"
     ]
    }
   ],
   "source": [
    "# initalize the instance right after creation\n",
    "\n",
    "class Robot:\n",
    "    def __init__(self, name=None):\n",
    "        self.name = name\n",
    "    \n",
    "    def say_hello(self):\n",
    "        if self.name:\n",
    "            print(\"Hi, I am \" + self.name + \"!\")\n",
    "        else:\n",
    "            print(\"Hi, I do not have name yet! Please give me one!\")\n",
    "\n",
    "if __name__ == \"__main__\": \n",
    "    x = Robot()\n",
    "    x.say_hello()\n",
    "    x.name = \"Olaf\"\n",
    "    x.say_hello()"
   ]
  },
  {
   "cell_type": "code",
   "execution_count": 21,
   "metadata": {},
   "outputs": [],
   "source": [
    "# Data Abstraction = Data Encapsulation + Data Hiding"
   ]
  },
  {
   "cell_type": "code",
   "execution_count": null,
   "metadata": {},
   "outputs": [],
   "source": []
  }
 ],
 "metadata": {
  "kernelspec": {
   "display_name": "Python 3",
   "language": "python",
   "name": "python3"
  },
  "language_info": {
   "codemirror_mode": {
    "name": "ipython",
    "version": 3
   },
   "file_extension": ".py",
   "mimetype": "text/x-python",
   "name": "python",
   "nbconvert_exporter": "python",
   "pygments_lexer": "ipython3",
   "version": "3.8.5"
  }
 },
 "nbformat": 4,
 "nbformat_minor": 4
}
