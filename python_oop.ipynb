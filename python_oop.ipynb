{
 "cells": [
  {
   "cell_type": "code",
   "execution_count": null,
   "metadata": {},
   "outputs": [],
   "source": []
  },
  {
   "cell_type": "code",
   "execution_count": 52,
   "metadata": {},
   "outputs": [
    {
     "name": "stdout",
     "output_type": "stream",
     "text": [
      "False\n",
      "True\n"
     ]
    }
   ],
   "source": [
    "# Class \n",
    "class MSPeak:\n",
    "    pass # null operation - placeholder\n",
    "\n",
    "\n",
    "# if module is imported by another program main is not used. \n",
    "# https://stackoverflow.com/questions/419163/what-does-if-name-main-do\n",
    "if __name__ == \"__main__\": \n",
    "    x = MSPeak() \n",
    "    y = MSPeak()\n",
    "    y_alias = y # reference to y \n",
    "    \n",
    "    print(x==y)\n",
    "    print(y==y_alias) "
   ]
  },
  {
   "cell_type": "code",
   "execution_count": 54,
   "metadata": {},
   "outputs": [
    {
     "name": "stdout",
     "output_type": "stream",
     "text": [
      "288.0 10117\n"
     ]
    },
    {
     "data": {
      "text/plain": [
       "{'mz': 288.0, 'int': 10117, 'rt': '12'}"
      ]
     },
     "execution_count": 54,
     "metadata": {},
     "output_type": "execute_result"
    }
   ],
   "source": [
    "# Attributes\n",
    "# dynamically create new attributes, which is not the way to use instance attributes \n",
    "\n",
    "class MSPeak:\n",
    "    pass \n",
    "\n",
    "if __name__ == \"__main__\": \n",
    "    x = MSPeak() \n",
    "    x.mz = 288.0\n",
    "    x.intenstiy = 10117\n",
    "    \n",
    "    print(x.mz, x.int)\n",
    "\n",
    "# internally instances use dictionaries \n",
    "x.__dict__\n",
    "x.rt = \"12\"\n",
    "x.__dict__"
   ]
  },
  {
   "cell_type": "code",
   "execution_count": 56,
   "metadata": {},
   "outputs": [
    {
     "name": "stdout",
     "output_type": "stream",
     "text": [
      "The peak can be found at mz300 with an intensity of 10000\n"
     ]
    }
   ],
   "source": [
    "# methods \n",
    "\n",
    "def show_peak(obj):\n",
    "    print(\"The peak can be found at mz \" + str(obj.mz) + \" with an intensity of \" + str(obj.intenstiy))\n",
    "\n",
    "class MSPeak:\n",
    "    pass\n",
    "\n",
    "if __name__ == \"__main__\": \n",
    "    x = MSPeak()\n",
    "    x.mz = 300\n",
    "    x.intenstiy = 10000\n",
    "    show_peak(x)\n"
   ]
  },
  {
   "cell_type": "code",
   "execution_count": 57,
   "metadata": {},
   "outputs": [
    {
     "name": "stdout",
     "output_type": "stream",
     "text": [
      "The peak can be found at mz 300 with an intensity of 10000\n"
     ]
    }
   ],
   "source": [
    "# methods \n",
    "\n",
    "def show_peak(obj):\n",
    "    print(\"The peak can be found at mz \" + str(obj.mz) + \" with an intensity of \" + str(obj.intenstiy))\n",
    "\n",
    "class MSPeak:\n",
    "    detected_peak = show_peak\n",
    "\n",
    "if __name__ == \"__main__\": \n",
    "    x = MSPeak()\n",
    "    x.mz = 300\n",
    "    x.intenstiy = 10000\n",
    "    x.detected_peak()\n",
    "\n",
    "# usually the methods are not defined outside of the class, but inside as a member function.\n"
   ]
  },
  {
   "cell_type": "code",
   "execution_count": 62,
   "metadata": {},
   "outputs": [
    {
     "name": "stdout",
     "output_type": "stream",
     "text": [
      "Either mz or intensity or both values are missing - could not show the peak\n",
      "The peak can be found at mz 250 with an intensity of 600000\n"
     ]
    }
   ],
   "source": [
    "# initalize the instance right after creation\n",
    "\n",
    "class MSPeak:\n",
    "    def __init__(self,\n",
    "                 mz=None,\n",
    "                 intensity=None):\n",
    "        self.mz = mz\n",
    "        self.intensity = intensity\n",
    "    \n",
    "    def show_peak(self):\n",
    "        if self.mz and self.intensity:\n",
    "            print(\"The peak can be found at mz \" + str(self.mz) + \" with an intensity of \" + str(self.intensity))\n",
    "        else:\n",
    "            print(\"Error: Either mz or intensity or both values are missing - could not show the peak!\")\n",
    "\n",
    "if __name__ == \"__main__\": \n",
    "    x = MSPeak()\n",
    "    x.show_peak()\n",
    "    x.mz = 250\n",
    "    x.intensity = 600000\n",
    "    x.show_peak()"
   ]
  },
  {
   "cell_type": "code",
   "execution_count": 75,
   "metadata": {},
   "outputs": [
    {
     "name": "stdout",
     "output_type": "stream",
     "text": [
      "The peak can be found at mz 250 with an intensity of 60000\n",
      "The peak can be found at mz 200 with an intensity of 60000\n",
      "200\n",
      "The peak can be found at mz 500 with an intensity of 60000\n"
     ]
    }
   ],
   "source": [
    "# Data Abstraction = Data Encapsulation + Data Hiding\n",
    "\n",
    "# Encapsulation is seen as the bundling of data with the methods that operate on that data\n",
    "# Information hiding on the other hand is the principle that some internal information or data is \"hidden\", so that it can't be accidentally changed\n",
    "\n",
    "\n",
    "class MSPeak:\n",
    "    def __init__(self,\n",
    "                 mz=None,\n",
    "                 intensity=None):\n",
    "        self.mz = mz\n",
    "        self.intensity = intensity\n",
    "    \n",
    "    def set_mz(self, mz):\n",
    "        self.mz = mz\n",
    "    \n",
    "    def get_mz(self):\n",
    "        return self.mz\n",
    "\n",
    "    def set_intensity(self, intensity):\n",
    "        self.intensity = intensity\n",
    "    \n",
    "    def get_intensity(self):\n",
    "        return self.intensity\n",
    "    \n",
    "    def set_mz(self, mz):\n",
    "        self.mz = mz\n",
    "    \n",
    "    def get_mz(self):\n",
    "        return self.mz\n",
    "             \n",
    "    def show_peak(self):\n",
    "        if self.mz and self.intensity:\n",
    "            print(\"The peak can be found at mz \" + str(self.mz) + \" with an intensity of \" + str(self.intensity))\n",
    "        else:\n",
    "            print(\"Error: Either mz or intensity or both values are missing - could not show the peak!\")\n",
    "            \n",
    "\n",
    "if __name__ == \"__main__\": \n",
    "    x = MSPeak(250, 60000)\n",
    "    x.show_peak()\n",
    "    x.mz = 200 \n",
    "    x.show_peak() # here the variable can still be changed - depends now on level of ecapsultion \n",
    "    print(x.get_mz())\n",
    "    x.set_mz(500)\n",
    "    x.show_peak()    \n"
   ]
  },
  {
   "cell_type": "code",
   "execution_count": 78,
   "metadata": {},
   "outputs": [
    {
     "name": "stdout",
     "output_type": "stream",
     "text": [
      "The peak can be found at mz 250 with an intensity of 60000 at the retention time of 300 seconds\n"
     ]
    }
   ],
   "source": [
    "# exercise add retention time \n",
    "\n",
    "class MSPeak:\n",
    "    def __init__(self,\n",
    "                 mz=None,\n",
    "                 intensity=None,\n",
    "                 rt=None):\n",
    "        self.mz = mz\n",
    "        self.intensity = intensity\n",
    "        self.rt = rt\n",
    "    \n",
    "    def set_mz(self, mz):\n",
    "        self.mz = mz\n",
    "    \n",
    "    def get_mz(self):\n",
    "        return self.mz\n",
    "\n",
    "    def set_intensity(self, intensity):\n",
    "        self.intensity = intensity\n",
    "    \n",
    "    def get_intensity(self):\n",
    "        return self.intensity\n",
    "             \n",
    "    def show_peak(self):\n",
    "        if self.mz and self.intensity and self.rt:\n",
    "            print(\"The peak can be found at mz \" + str(self.mz) + \" with an intensity of \" + str(self.intensity) +\n",
    "                 \" at the retention time of \" + str(self.rt) + \" seconds\")\n",
    "        else:\n",
    "            print(\"Error: Either mz or intensity or retention time or all three values are missing - could not show the peak!\")\n",
    "            \n",
    "\n",
    "if __name__ == \"__main__\": \n",
    "    x = MSPeak(250, 60000, 300)\n",
    "    x.show_peak()\n",
    "    \n",
    "# currently still the possibilty to change the attributes without using the getter/setter methods (not encapsulated)\n",
    "# this can be prevented using private attributes"
   ]
  },
  {
   "cell_type": "code",
   "execution_count": 51,
   "metadata": {},
   "outputs": [
    {
     "name": "stdout",
     "output_type": "stream",
     "text": [
      "I am public\n",
      "I am public- changed freely!\n",
      "I am protected\n"
     ]
    }
   ],
   "source": [
    "# public, protected, private attributes \n",
    "\n",
    "class A():\n",
    "    \n",
    "    def __init__(self):\n",
    "        self.__priv = \"I am private\" # inaccessible & invisible - can only be mutated inside the class definition\n",
    "        self._prot = \"I am protected\" # should not be used outside of the class definition (unless in a subclass)\n",
    "        self.pub = \"I am public\" # used freely inside/outside class definition\n",
    "        \n",
    "    def set_private_attribute(self, __priv):\n",
    "        self.__priv = __priv\n",
    "        \n",
    "x = A()\n",
    "\n",
    "print(x.pub)\n",
    "x.pub = x.pub + \"- changed freely!\"\n",
    "print(x.pub)\n",
    "\n",
    "print(x._prot)\n",
    "\n",
    "#x.__priv\n",
    "\n"
   ]
  },
  {
   "cell_type": "code",
   "execution_count": null,
   "metadata": {},
   "outputs": [],
   "source": []
  },
  {
   "cell_type": "code",
   "execution_count": null,
   "metadata": {},
   "outputs": [],
   "source": []
  }
 ],
 "metadata": {
  "kernelspec": {
   "display_name": "Python 3",
   "language": "python",
   "name": "python3"
  },
  "language_info": {
   "codemirror_mode": {
    "name": "ipython",
    "version": 3
   },
   "file_extension": ".py",
   "mimetype": "text/x-python",
   "name": "python",
   "nbconvert_exporter": "python",
   "pygments_lexer": "ipython3",
   "version": "3.8.5"
  }
 },
 "nbformat": 4,
 "nbformat_minor": 4
}
