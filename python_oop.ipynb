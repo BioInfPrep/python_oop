{
 "cells": [
  {
   "cell_type": "code",
   "execution_count": null,
   "metadata": {},
   "outputs": [],
   "source": []
  },
  {
   "cell_type": "code",
   "execution_count": 52,
   "metadata": {},
   "outputs": [
    {
     "name": "stdout",
     "output_type": "stream",
     "text": [
      "False\n",
      "True\n"
     ]
    }
   ],
   "source": [
    "# Class \n",
    "class MSPeak:\n",
    "    pass # null operation - placeholder\n",
    "\n",
    "\n",
    "# if module is imported by another program main is not used. \n",
    "# https://stackoverflow.com/questions/419163/what-does-if-name-main-do\n",
    "if __name__ == \"__main__\": \n",
    "    x = MSPeak() \n",
    "    y = MSPeak()\n",
    "    y_alias = y # reference to y \n",
    "    \n",
    "    print(x==y)\n",
    "    print(y==y_alias) "
   ]
  },
  {
   "cell_type": "code",
   "execution_count": 54,
   "metadata": {},
   "outputs": [
    {
     "name": "stdout",
     "output_type": "stream",
     "text": [
      "288.0 10117\n"
     ]
    },
    {
     "data": {
      "text/plain": [
       "{'mz': 288.0, 'int': 10117, 'rt': '12'}"
      ]
     },
     "execution_count": 54,
     "metadata": {},
     "output_type": "execute_result"
    }
   ],
   "source": [
    "# Attributes\n",
    "# dynamically create new attributes, which is not the way to use instance attributes \n",
    "\n",
    "class MSPeak:\n",
    "    pass \n",
    "\n",
    "if __name__ == \"__main__\": \n",
    "    x = MSPeak() \n",
    "    x.mz = 288.0\n",
    "    x.intenstiy = 10117\n",
    "    \n",
    "    print(x.mz, x.int)\n",
    "\n",
    "# internally instances use dictionaries \n",
    "x.__dict__\n",
    "x.rt = \"12\"\n",
    "x.__dict__"
   ]
  },
  {
   "cell_type": "code",
   "execution_count": 56,
   "metadata": {},
   "outputs": [
    {
     "name": "stdout",
     "output_type": "stream",
     "text": [
      "The peak can be found at mz300 with an intensity of 10000\n"
     ]
    }
   ],
   "source": [
    "# methods \n",
    "\n",
    "def show_peak(obj):\n",
    "    print(\"The peak can be found at mz \" + str(obj.mz) + \" with an intensity of \" + str(obj.intenstiy))\n",
    "\n",
    "class MSPeak:\n",
    "    pass\n",
    "\n",
    "if __name__ == \"__main__\": \n",
    "    x = MSPeak()\n",
    "    x.mz = 300\n",
    "    x.intenstiy = 10000\n",
    "    show_peak(x)\n"
   ]
  },
  {
   "cell_type": "code",
   "execution_count": 57,
   "metadata": {},
   "outputs": [
    {
     "name": "stdout",
     "output_type": "stream",
     "text": [
      "The peak can be found at mz 300 with an intensity of 10000\n"
     ]
    }
   ],
   "source": [
    "# methods \n",
    "\n",
    "def show_peak(obj):\n",
    "    print(\"The peak can be found at mz \" + str(obj.mz) + \" with an intensity of \" + str(obj.intenstiy))\n",
    "\n",
    "class MSPeak:\n",
    "    detected_peak = show_peak\n",
    "\n",
    "if __name__ == \"__main__\": \n",
    "    x = MSPeak()\n",
    "    x.mz = 300\n",
    "    x.intenstiy = 10000\n",
    "    x.detected_peak()\n",
    "\n",
    "# usually the methods are not defined outside of the class, but inside as a member function.\n"
   ]
  },
  {
   "cell_type": "code",
   "execution_count": 62,
   "metadata": {},
   "outputs": [
    {
     "name": "stdout",
     "output_type": "stream",
     "text": [
      "Either mz or intensity or both values are missing - could not show the peak\n",
      "The peak can be found at mz 250 with an intensity of 600000\n"
     ]
    }
   ],
   "source": [
    "# initalize the instance right after creation\n",
    "\n",
    "class MSPeak:\n",
    "    def __init__(self,\n",
    "                 mz=None,\n",
    "                 intensity=None):\n",
    "        self.mz = mz\n",
    "        self.intensity = intensity\n",
    "    \n",
    "    def show_peak(self):\n",
    "        if self.mz and self.intensity:\n",
    "            print(\"The peak can be found at mz \" + str(self.mz) + \" with an intensity of \" + str(self.intensity))\n",
    "        else:\n",
    "            print(\"Error: Either mz or intensity or both values are missing - could not show the peak!\")\n",
    "\n",
    "if __name__ == \"__main__\": \n",
    "    x = MSPeak()\n",
    "    x.show_peak()\n",
    "    x.mz = 250\n",
    "    x.intensity = 600000\n",
    "    x.show_peak()"
   ]
  },
  {
   "cell_type": "code",
   "execution_count": 75,
   "metadata": {},
   "outputs": [
    {
     "name": "stdout",
     "output_type": "stream",
     "text": [
      "The peak can be found at mz 250 with an intensity of 60000\n",
      "The peak can be found at mz 200 with an intensity of 60000\n",
      "200\n",
      "The peak can be found at mz 500 with an intensity of 60000\n"
     ]
    }
   ],
   "source": [
    "# Data Abstraction = Data Encapsulation + Data Hiding\n",
    "\n",
    "# Encapsulation is seen as the bundling of data with the methods that operate on that data\n",
    "# Information hiding on the other hand is the principle that some internal information or data is \"hidden\", so that it can't be accidentally changed\n",
    "\n",
    "\n",
    "class MSPeak:\n",
    "    def __init__(self,\n",
    "                 mz=None,\n",
    "                 intensity=None):\n",
    "        self.mz = mz\n",
    "        self.intensity = intensity\n",
    "    \n",
    "    def set_mz(self, mz):\n",
    "        self.mz = mz\n",
    "    \n",
    "    def get_mz(self):\n",
    "        return self.mz\n",
    "\n",
    "    def set_intensity(self, intensity):\n",
    "        self.intensity = intensity\n",
    "    \n",
    "    def get_intensity(self):\n",
    "        return self.intensity\n",
    "    \n",
    "    def set_mz(self, mz):\n",
    "        self.mz = mz\n",
    "    \n",
    "    def get_mz(self):\n",
    "        return self.mz\n",
    "             \n",
    "    def show_peak(self):\n",
    "        if self.mz and self.intensity:\n",
    "            print(\"The peak can be found at mz \" + str(self.mz) + \" with an intensity of \" + str(self.intensity))\n",
    "        else:\n",
    "            print(\"Error: Either mz or intensity or both values are missing - could not show the peak!\")\n",
    "            \n",
    "\n",
    "if __name__ == \"__main__\": \n",
    "    x = MSPeak(250, 60000)\n",
    "    x.show_peak()\n",
    "    x.mz = 200 \n",
    "    x.show_peak() # here the variable can still be changed - depends now on level of ecapsultion \n",
    "    print(x.get_mz())\n",
    "    x.set_mz(500)\n",
    "    x.show_peak()    \n"
   ]
  },
  {
   "cell_type": "code",
   "execution_count": 78,
   "metadata": {},
   "outputs": [
    {
     "name": "stdout",
     "output_type": "stream",
     "text": [
      "The peak can be found at mz 250 with an intensity of 60000 at the retention time of 300 seconds\n"
     ]
    }
   ],
   "source": [
    "# exercise add retention time \n",
    "\n",
    "class MSPeak:\n",
    "    def __init__(self,\n",
    "                 mz=None,\n",
    "                 intensity=None,\n",
    "                 rt=None):\n",
    "        self.mz = mz\n",
    "        self.intensity = intensity\n",
    "        self.rt = rt\n",
    "    \n",
    "    def set_mz(self, mz):\n",
    "        self.mz = mz\n",
    "    \n",
    "    def get_mz(self):\n",
    "        return self.mz\n",
    "\n",
    "    def set_intensity(self, intensity):\n",
    "        self.intensity = intensity\n",
    "    \n",
    "    def get_intensity(self):\n",
    "        return self.intensity\n",
    "             \n",
    "    def show_peak(self):\n",
    "        if self.mz and self.intensity and self.rt:\n",
    "            print(\"The peak can be found at mz \" + str(self.mz) + \" with an intensity of \" + str(self.intensity) +\n",
    "                 \" at the retention time of \" + str(self.rt) + \" seconds\")\n",
    "        else:\n",
    "            print(\"Error: Either mz or intensity or retention time or all three values are missing - could not show the peak!\")\n",
    "            \n",
    "\n",
    "if __name__ == \"__main__\": \n",
    "    x = MSPeak(250, 60000, 300)\n",
    "    x.show_peak()\n",
    "    \n",
    "# currently still the possibilty to change the attributes without using the getter/setter methods (not encapsulated)\n",
    "# this can be prevented using private attributes"
   ]
  },
  {
   "cell_type": "code",
   "execution_count": 51,
   "metadata": {},
   "outputs": [
    {
     "name": "stdout",
     "output_type": "stream",
     "text": [
      "I am public\n",
      "I am public- changed freely!\n",
      "I am protected\n"
     ]
    }
   ],
   "source": [
    "# public, protected, private attributes \n",
    "\n",
    "class A():\n",
    "    \n",
    "    def __init__(self):\n",
    "        self.__priv = \"I am private\" # inaccessible & invisible - can only be mutated inside the class definition\n",
    "        self._prot = \"I am protected\" # should not be used outside of the class definition (unless in a subclass)\n",
    "        self.pub = \"I am public\" # used freely inside/outside class definition\n",
    "        \n",
    "    def set_private_attribute(self, __priv):\n",
    "        self.__priv = __priv\n",
    "        \n",
    "x = A()\n",
    "\n",
    "print(x.pub)\n",
    "x.pub = x.pub + \"- changed freely!\"\n",
    "print(x.pub)\n",
    "\n",
    "print(x._prot)\n",
    "\n",
    "#x.__priv\n",
    "\n"
   ]
  },
  {
   "cell_type": "code",
   "execution_count": 85,
   "metadata": {},
   "outputs": [
    {
     "name": "stdout",
     "output_type": "stream",
     "text": [
      "The peak can be found at mz 250 with an intensity of 60000 at the retention time of 300 seconds\n",
      "250\n",
      "500\n",
      "The peak can be found at mz 500 with an intensity of 60000 at the retention time of 300 seconds\n",
      "Adding an additional peak: \n",
      "The peak can be found at mz 500 with an intensity of 60000 at the retention time of 300 seconds\n",
      "The peak can be found at mz 800 with an intensity of 80000 at the retention time of 600 seconds\n"
     ]
    }
   ],
   "source": [
    "# private member variables\n",
    "class MSPeak:\n",
    "    def __init__(self,\n",
    "                 mz=None,\n",
    "                 intensity=None,\n",
    "                 rt=None):\n",
    "        self.__mz = mz\n",
    "        self.__intensity = intensity\n",
    "        self.__rt = rt\n",
    "    \n",
    "    def set_mz(self, mz):\n",
    "        self.__mz = mz\n",
    "    \n",
    "    def get_mz(self):\n",
    "        return self.__mz\n",
    "\n",
    "    def set_intensity(self, intensity):\n",
    "        self.__intensity = intensity\n",
    "    \n",
    "    def get_intensity(self):\n",
    "        return self.__intensity\n",
    "             \n",
    "    def show_peak(self):\n",
    "        if self.__mz and self.__intensity and self.__rt:\n",
    "            print(\"The peak can be found at mz \" + str(self.__mz) + \" with an intensity of \" + str(self.__intensity) +\n",
    "                 \" at the retention time of \" + str(self.__rt) + \" seconds\")\n",
    "        else:\n",
    "            print(\"Error: Either mz or intensity or retention time or all three values are missing - could not show the peak!\")\n",
    "            \n",
    "\n",
    "if __name__ == \"__main__\": \n",
    "    x = MSPeak(250, 60000, 300)\n",
    "    x.show_peak()\n",
    "    # x.mz(300) -> leads to an error, since variable is private\n",
    "    print(x.get_mz())\n",
    "    x.set_mz(500)\n",
    "    print(x.get_mz())\n",
    "    x.show_peak()\n",
    "    \n",
    "    print(\"Adding an additional peak: \")\n",
    "    y = MSPeak(800, 80000, 600)\n",
    "    \n",
    "    for peak in [x,y]:\n",
    "        peak.show_peak()\n",
    "        \n",
    "# getter and setter can be usually provided automatically by an IDE for every member variable."
   ]
  },
  {
   "cell_type": "code",
   "execution_count": 88,
   "metadata": {},
   "outputs": [
    {
     "name": "stdout",
     "output_type": "stream",
     "text": [
      "The peak has been deleted\n",
      "The peak can be found at mz 250 with an intensity of 60000 at the retention time of 300 seconds\n",
      "The peak can be found at mz 800 with an intensity of 80000 at the retention time of 600 seconds\n",
      "The peak has been deleted\n"
     ]
    }
   ],
   "source": [
    "# adding a destructor but memory management is usually done by python directly - called: garbage collection\n",
    "class MSPeak:\n",
    "    def __init__(self,\n",
    "                 mz=None,\n",
    "                 intensity=None,\n",
    "                 rt=None):\n",
    "        self.__mz = mz\n",
    "        self.__intensity = intensity\n",
    "        self.__rt = rt\n",
    "        \n",
    "    def __del__(self):\n",
    "        print(\"The peak has been deleted\")\n",
    "    \n",
    "    def set_mz(self, mz):\n",
    "        self.__mz = mz\n",
    "    \n",
    "    def get_mz(self):\n",
    "        return self.__mz\n",
    "\n",
    "    def set_intensity(self, intensity):\n",
    "        self.__intensity = intensity\n",
    "    \n",
    "    def get_intensity(self):\n",
    "        return self.__intensity\n",
    "             \n",
    "    def show_peak(self):\n",
    "        if self.__mz and self.__intensity and self.__rt:\n",
    "            print(\"The peak can be found at mz \" + str(self.__mz) + \" with an intensity of \" + str(self.__intensity) +\n",
    "                 \" at the retention time of \" + str(self.__rt) + \" seconds\")\n",
    "        else:\n",
    "            print(\"Error: Either mz or intensity or retention time or all three values are missing - could not show the peak!\")\n",
    "            \n",
    "\n",
    "if __name__ == \"__main__\": \n",
    "    x = MSPeak(250, 60000, 300)\n",
    "    y = MSPeak(800, 80000, 600)\n",
    "    \n",
    "    for peak in [x,y]:\n",
    "        peak.show_peak()\n",
    "        \n",
    "    z = x\n",
    "    del x\n",
    "    del z\n",
    "    # x.show_peak() -> x is not defined"
   ]
  },
  {
   "cell_type": "code",
   "execution_count": 90,
   "metadata": {},
   "outputs": [
    {
     "name": "stdout",
     "output_type": "stream",
     "text": [
      "800\n",
      "The peak can be found at mz 250 with an intensity of 60000 at the retention time of 300 seconds\n",
      "The peak can be found at mz 800 with an intensity of 80000 at the retention time of 600 seconds\n",
      "250\n"
     ]
    }
   ],
   "source": []
  },
  {
   "cell_type": "code",
   "execution_count": 99,
   "metadata": {},
   "outputs": [
    {
     "name": "stdout",
     "output_type": "stream",
     "text": [
      "I am a class attribute!\n",
      "I am a class attribute!\n",
      "I am a class attribute!\n",
      "-------------------\n",
      "This creates a new instance attribute for x\n",
      "I am a class attribute!\n",
      "I am a class attribute!\n",
      "-------------------\n",
      "This creates a new instance attribute for x\n",
      "This is changing the class attribute\n",
      "This is changing the class attribute\n",
      "-------------------\n",
      "{'a': 'This creates a new instance attribute for x'}\n",
      "-------------------\n",
      "{'__module__': '__main__', 'a': 'This is changing the class attribute', '__dict__': <attribute '__dict__' of 'A' objects>, '__weakref__': <attribute '__weakref__' of 'A' objects>, '__doc__': None}\n",
      "-------------------\n",
      "{'__module__': '__main__', 'a': 'This is changing the class attribute', '__dict__': <attribute '__dict__' of 'A' objects>, '__weakref__': <attribute '__weakref__' of 'A' objects>, '__doc__': None}\n"
     ]
    }
   ],
   "source": [
    "# class attributes \n",
    "class A:\n",
    "    a = \"I am a class attribute!\"\n",
    "\n",
    "x = A()\n",
    "y = A()\n",
    "print(x.a)\n",
    "print(y.a)\n",
    "print(A.a)\n",
    "print(\"-------------------\")\n",
    "\n",
    "x.a = \"This creates a new instance attribute for x\"\n",
    "\n",
    "print(x.a)\n",
    "print(y.a)\n",
    "print(A.a)\n",
    "print(\"-------------------\")\n",
    "\n",
    "A.a = \"This is changing the class attribute\"\n",
    "\n",
    "print(x.a)\n",
    "print(y.a)\n",
    "print(A.a)\n",
    "print(\"-------------------\")\n",
    "\n",
    "# Python's class attributes and object attributes are stored in separate dictionaries\n",
    "print(x.__dict__) # instances dictionary\n",
    "print(\"-------------------\")\n",
    "print(x.__class__.__dict__) # class dictrionary\n",
    "print(\"-------------------\")\n",
    "print(A.__dict__)"
   ]
  },
  {
   "cell_type": "code",
   "execution_count": 109,
   "metadata": {},
   "outputs": [
    {
     "name": "stdout",
     "output_type": "stream",
     "text": [
      "(<class '__main__.MSPeak'>, 0)\n",
      "(<class '__main__.MSPeak'>, 1)\n",
      "(<class '__main__.MSPeak'>, 1)\n"
     ]
    }
   ],
   "source": [
    "# use static method to count instances without creating one\n",
    "\n",
    "# adding a destructor but memory management is usually done by python directly - called: garbage collection\n",
    "class MSPeak:\n",
    "    __counter = 0\n",
    "    \n",
    "    def __init__(self):\n",
    "        type(self).__counter += 1\n",
    "    \n",
    "    @staticmethod # does not need a reference to an instance!\n",
    "    def instanceCount():\n",
    "        return MSPeak.__counter\n",
    "    \n",
    "    #@classmethod\n",
    "    #def instanceCount(cls): # references to a class! # can be called via instance or class name\n",
    "    #    return cls, MSPeak.__counter\n",
    "    \n",
    "if __name__ == \"__main__\":\n",
    "    print(MSPeak.instanceCount())\n",
    "    x = MSPeak()\n",
    "    print(x.instanceCount())\n",
    "    print(MSPeak.instanceCount())"
   ]
  },
  {
   "cell_type": "code",
   "execution_count": 111,
   "metadata": {},
   "outputs": [
    {
     "name": "stdout",
     "output_type": "stream",
     "text": [
      "This class is about pet animals!\n",
      "This class is about man's best friends!\n",
      "This class is about all kinds of cats!\n"
     ]
    }
   ],
   "source": [
    "# class methods vs. static methods - inheritance\n",
    "\n",
    "class Pet: # base class\n",
    "    _class_info = \"pet animals\"\n",
    "\n",
    "    def about(self):\n",
    "        print(\"This class is about \" + self._class_info + \"!\")   \n",
    "    \n",
    "\n",
    "class Dog(Pet):\n",
    "    _class_info = \"man's best friends\" # overload\n",
    "\n",
    "class Cat(Pet):\n",
    "    _class_info = \"all kinds of cats\" # overload\n",
    "    \n",
    "p = Pet()\n",
    "p.about()\n",
    "d = Dog()\n",
    "d.about()\n",
    "c = Cat()\n",
    "c.about()\n",
    "\n",
    "# works, but from the design point of few it is bad to always have to make\n",
    "# a class object to know what kind of class it is."
   ]
  },
  {
   "cell_type": "code",
   "execution_count": 113,
   "metadata": {},
   "outputs": [
    {
     "name": "stdout",
     "output_type": "stream",
     "text": [
      "This class is about pet animals!\n",
      "This class is about pet animals!\n",
      "This class is about pet animals!\n"
     ]
    }
   ],
   "source": [
    "# class methods vs. static methods - inheritance\n",
    "\n",
    "class Pet: # base class\n",
    "    _class_info = \"pet animals\"\n",
    "\n",
    "    @staticmethod\n",
    "    def about():\n",
    "        print(\"This class is about \" + Pet._class_info + \"!\")   \n",
    "    \n",
    "\n",
    "class Dog(Pet):\n",
    "    _class_info = \"man's best friends\" # overload\n",
    "\n",
    "class Cat(Pet):\n",
    "    _class_info = \"all kinds of cats\" # overload\n",
    "    \n",
    "Pet.about()\n",
    "Dog.about()\n",
    "Cat.about()\n",
    "\n",
    "# no way to differentate what kind of class it really is! "
   ]
  },
  {
   "cell_type": "code",
   "execution_count": 114,
   "metadata": {},
   "outputs": [
    {
     "name": "stdout",
     "output_type": "stream",
     "text": [
      "This class is about pet animals!\n",
      "This class is about man's best friends!\n",
      "This class is about all kinds of cats!\n"
     ]
    }
   ],
   "source": [
    "# class methods vs. static methods - inheritance\n",
    "\n",
    "class Pet: # base class\n",
    "    _class_info = \"pet animals\"\n",
    "\n",
    "    @classmethod\n",
    "    def about(cls):\n",
    "        print(\"This class is about \" + cls._class_info + \"!\")   \n",
    "    \n",
    "\n",
    "class Dog(Pet):\n",
    "    _class_info = \"man's best friends\" # overload\n",
    "\n",
    "class Cat(Pet):\n",
    "    _class_info = \"all kinds of cats\" # overload\n",
    "    \n",
    "Pet.about()\n",
    "Dog.about()\n",
    "Cat.about()"
   ]
  },
  {
   "cell_type": "code",
   "execution_count": null,
   "metadata": {},
   "outputs": [],
   "source": []
  }
 ],
 "metadata": {
  "kernelspec": {
   "display_name": "Python 3",
   "language": "python",
   "name": "python3"
  },
  "language_info": {
   "codemirror_mode": {
    "name": "ipython",
    "version": 3
   },
   "file_extension": ".py",
   "mimetype": "text/x-python",
   "name": "python",
   "nbconvert_exporter": "python",
   "pygments_lexer": "ipython3",
   "version": "3.8.5"
  }
 },
 "nbformat": 4,
 "nbformat_minor": 4
}
